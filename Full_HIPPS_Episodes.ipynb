{
 "cells": [
  {
   "cell_type": "code",
   "execution_count": null,
   "id": "4b386338",
   "metadata": {
    "scrolled": false
   },
   "outputs": [],
   "source": [
    "import HIPPS\n",
    "from datetime import datetime\n",
    "\n",
    "HIP_concept_file = \"HIP_concepts.csv\"\n",
    "outcome_limits_file = \"Matcho_outcome_limits.csv\"\n",
    "term_durations_file = \"Matcho_term_durations.csv\"\n",
    "PPS_concept_file = \"PPS_concepts.csv\"\n",
    "\n",
    "final_episodes = HIPPS.main(HIP_concept_file,outcome_limits_file,term_durations_file,PPS_concept_file)\n",
    "\n",
    "final_episodes.to_csv(f'HIPPS_Pregnancy_Episodes.csv', index=False, date_format=\"%Y/%m/%d\")\n",
    "\n",
    "print(f\"Your reports have been saved!\")"
   ]
  }
 ],
 "metadata": {
  "kernelspec": {
   "display_name": "Python 3",
   "language": "python",
   "name": "python3"
  },
  "language_info": {
   "codemirror_mode": {
    "name": "ipython",
    "version": 3
   },
   "file_extension": ".py",
   "mimetype": "text/x-python",
   "name": "python",
   "nbconvert_exporter": "python",
   "pygments_lexer": "ipython3",
   "version": "3.10.16"
  },
  "toc": {
   "base_numbering": 1,
   "nav_menu": {},
   "number_sections": true,
   "sideBar": true,
   "skip_h1_title": false,
   "title_cell": "Table of Contents",
   "title_sidebar": "Contents",
   "toc_cell": false,
   "toc_position": {},
   "toc_section_display": true,
   "toc_window_display": false
  }
 },
 "nbformat": 4,
 "nbformat_minor": 5
}
